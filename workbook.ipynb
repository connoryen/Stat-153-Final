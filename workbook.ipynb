{
 "cells": [
  {
   "cell_type": "code",
   "execution_count": 21,
   "id": "79624b55-a473-40d4-b64a-26855319d136",
   "metadata": {},
   "outputs": [
    {
     "data": {
      "text/html": [
       "<table class=\"dataframe\">\n",
       "<caption>A data.frame: 6 × 2</caption>\n",
       "<thead>\n",
       "\t<tr><th></th><th scope=col>Date</th><th scope=col>New.Cases</th></tr>\n",
       "\t<tr><th></th><th scope=col>&lt;fct&gt;</th><th scope=col>&lt;int&gt;</th></tr>\n",
       "</thead>\n",
       "<tbody>\n",
       "\t<tr><th scope=row>1</th><td>6/20/20</td><td>704</td></tr>\n",
       "\t<tr><th scope=row>2</th><td>6/21/20</td><td>579</td></tr>\n",
       "\t<tr><th scope=row>3</th><td>6/22/20</td><td>870</td></tr>\n",
       "\t<tr><th scope=row>4</th><td>6/23/20</td><td>872</td></tr>\n",
       "\t<tr><th scope=row>5</th><td>6/24/20</td><td>747</td></tr>\n",
       "\t<tr><th scope=row>6</th><td>6/25/20</td><td>682</td></tr>\n",
       "</tbody>\n",
       "</table>\n"
      ],
      "text/latex": [
       "A data.frame: 6 × 2\n",
       "\\begin{tabular}{r|ll}\n",
       "  & Date & New.Cases\\\\\n",
       "  & <fct> & <int>\\\\\n",
       "\\hline\n",
       "\t1 & 6/20/20 & 704\\\\\n",
       "\t2 & 6/21/20 & 579\\\\\n",
       "\t3 & 6/22/20 & 870\\\\\n",
       "\t4 & 6/23/20 & 872\\\\\n",
       "\t5 & 6/24/20 & 747\\\\\n",
       "\t6 & 6/25/20 & 682\\\\\n",
       "\\end{tabular}\n"
      ],
      "text/markdown": [
       "\n",
       "A data.frame: 6 × 2\n",
       "\n",
       "| <!--/--> | Date &lt;fct&gt; | New.Cases &lt;int&gt; |\n",
       "|---|---|---|\n",
       "| 1 | 6/20/20 | 704 |\n",
       "| 2 | 6/21/20 | 579 |\n",
       "| 3 | 6/22/20 | 870 |\n",
       "| 4 | 6/23/20 | 872 |\n",
       "| 5 | 6/24/20 | 747 |\n",
       "| 6 | 6/25/20 | 682 |\n",
       "\n"
      ],
      "text/plain": [
       "  Date    New.Cases\n",
       "1 6/20/20 704      \n",
       "2 6/21/20 579      \n",
       "3 6/22/20 870      \n",
       "4 6/23/20 872      \n",
       "5 6/24/20 747      \n",
       "6 6/25/20 682      "
      ]
     },
     "metadata": {},
     "output_type": "display_data"
    }
   ],
   "source": [
    "library(astsa)\n",
    "library(forecast)\n",
    "library(FitAR)\n",
    "library(Metrics)\n",
    "\n",
    "df <- read.csv(\"projectdata_covid.csv\")\n",
    "head(df)"
   ]
  },
  {
   "cell_type": "markdown",
   "id": "d49f6d97-cbb1-494d-a1a8-02b03c828dc7",
   "metadata": {},
   "source": [
    "# 1 Executive Summary\n",
    "The COVID-19 pandemic, caused by SARS-CoV-2, presents an unprecedented and global healthcare challenge. Forecast models for new cases are essential to develop effective healthcare plans for mitigating the spread of the virus. In this report, we model the emergence of COVID-19 cases in Gotham City from 6/20/2020 to 8/18/2020 and predict values for 8/19/2020 to 8/28/2020. From our parametric model with SARMA(0,1)[14] noise, new cases of COVID-19 will continue to increase over the next ten days, reaching a historical high of ~1700 cases on 8/24/2020. "
   ]
  },
  {
   "cell_type": "markdown",
   "id": "cfc76b87-6711-4b71-b71b-23bdc22ff2bd",
   "metadata": {},
   "source": [
    "# 2 Exploratory Data Analysis"
   ]
  },
  {
   "cell_type": "code",
   "execution_count": 20,
   "id": "469c6bd6-2e5c-4495-bba4-4af5c2fb4481",
   "metadata": {},
   "outputs": [
    {
     "data": {
      "image/png": "[encoded data removed]",
      "text/plain": [
       "Plot with title \"New Cases of COVID-19\""
      ]
     },
     "metadata": {
      "image/png": {
       "height": 420,
       "width": 420
      }
     },
     "output_type": "display_data"
    }
   ],
   "source": [
    "# plot new cases\n",
    "plot.ts(df$New.Cases, type = \"o\", lwd = 2.5, \n",
    "        xaxt = \"n\", xlab = \"Date\", ylab = \"New Cases\", main = \"New Cases of COVID-19\")\n",
    "time <- c(1:length(df$New.Cases))\n",
    "\n",
    "#Day of week and month of year values\n",
    "df$DoW <- weekdays(as.Date(df$Date, tryFormats = \"%m/%d/%Y\")) # weekdays() extracts the DoW from a Date value\n",
    "df$MoY <- months(as.Date(df$Date, tryFormats = \"%m/%d/%Y\")) # months() extracts MoY from a Date value\n",
    "\n",
    "#labels for the xaxis\n",
    "xLabel <- c(\"6/20\", \"6/27\", \"7/4\", \"7/11\", \"7/18\", \"7/25\", \"8/1\", \"8/8\", \"8/15\") \n",
    "axis(side = 1, at = seq(1,60, by = 7), labels = xLabel) # replace numerical labels with date labels\n",
    "\n",
    "#color weekday values purple and weekend values blue\n",
    "points(which(df$DoW == \"Monday\"), df$New.Cases[df$DoW == \"Monday\"], \n",
    "       col = \"purple\", lwd = 2.5)\n",
    "points(which(df$DoW == \"Tuesday\"), df$New.Cases[df$DoW == \"Tuesday\"], \n",
    "       col = \"purple\", lwd = 2.5)\n",
    "points(which(df$DoW == \"Wednesday\"), df$New.Cases[df$DoW == \"Wednesday\"], \n",
    "       col = \"purple\", lwd = 2.5)\n",
    "points(which(df$DoW == \"Thursday\"), df$New.Cases[df$DoW == \"Thursday\"], \n",
    "       col = \"purple\", lwd = 2.5)\n",
    "points(which(df$DoW == \"Friday\"), df$New.Cases[df$DoW == \"Friday\"], \n",
    "       col = \"purple\", lwd = 2.5)\n",
    "points(which(df$DoW == \"Saturday\"), df$New.Cases[df$DoW == \"Saturday\"], \n",
    "       col = \"dodgerblue3\", lwd = 2.5)\n",
    "points(which(df$DoW == \"Sunday\"), df$New.Cases[df$DoW == \"Sunday\"], \n",
    "       col = \"dodgerblue3\", lwd = 2.5)"
   ]
  },
  {
   "cell_type": "markdown",
   "id": "2cb4467f-cc80-4841-9628-704eed33af89",
   "metadata": {},
   "source": [
    "New cases for COVID-19 (henceforce referred to as \"cases\") exhibit a quadratically increasing trend with weekly periodicity. Cases peak during the working week (see the purple marks in Figure 1) and troph during the weekends (see blue marks in Figure 1). Also of note is the increasing weekly variance of cases. "
   ]
  },
  {
   "cell_type": "markdown",
   "id": "7a9bf04f-a81d-4041-90a6-c10f37f51127",
   "metadata": {},
   "source": [
    "# 3   Models Considered\n",
    "\n",
    "We assume that the time series of new cases consists of the sum of a signal component and a noise component. We adress the signal component of the data using both parametric (Section 3.1) and differencing (Section 3.2) approaches. The goal of both approaches is to have stationary residuals which can then be described with ARMA models (Sections 3.1.1, 3.1.2, 3.2.1, and 3.2.2)."
   ]
  },
  {
   "cell_type": "markdown",
   "id": "4098b8cc-fc63-4e69-b3a4-5f610a6f2e6d",
   "metadata": {},
   "source": [
    "## 3.1   Model 1: Parametric Signal Model   \n",
    "We first consider a parametric signal model. The parametric model incorporates a polynomial that changes behavior with the seven days of the week. To do this, indicators for the seven days of the week are interacted with a quadratic function of time. The spectral density of the resulting residuals had an anomylous peak at the period of 12 days. As such, we incorporate a sinusoid that increases depending on the day of the week by interacting a sinusoid ($f=1/12$) with indicators for the seven days of the week. Finally, monthly indicators are added to complete the model. This parametric signal model (henceforth, Model 1) is detailed in Equation 1 where $X_t$ is the additive stationary noise term. \n",
    "\n",
    "\n",
    "\\begin{align}\n",
    "\\text{Cases}_t &= \\beta_0 + \\beta_1t +\\beta_2t^2 +\n",
    "\\sum_{j=1}^6 \\left[  (\\beta_{3j}+\\beta_{3j+1} t+\\beta_{3j+2} t^2) I_{\\text{weekday}_{jt}} \\right] +\n",
    "\\beta_{21} \\cos \\left(\\frac{2\\pi t}{12} \\right) + \n",
    "\\beta_{22} \\sin \\left(\\frac{2\\pi t}{12} \\right) \\notag \\\\\n",
    "&+ \\sum_{j=1}^6 \\left[ \\left(\\beta_{2j+21} \\cos \\left(\\frac{2\\pi t}{12} \\right) + \\beta_{2j+22} \\sin \\left(\\frac{2\\pi t}{12} \\right)\\right) I_{\\text{weekday}_{jt}} \\right] + \\beta_{35} I_{\\text{June}_t} + \\beta_{36} I_{\\text{July}_t} + X_t. \n",
    "\\end{align}\n",
    "\n",
    "Figure 2 shows the fit of Model 1 as well as the residuals which appear reasonably stationary. "
   ]
  },
  {
   "cell_type": "code",
   "execution_count": null,
   "id": "78b36149-7455-44f7-bb49-fe621e31d16f",
   "metadata": {},
   "outputs": [],
   "source": []
  },
  {
   "cell_type": "code",
   "execution_count": null,
   "id": "72dc1f25-0cd5-42aa-9f9b-8b66b0fbb278",
   "metadata": {},
   "outputs": [],
   "source": []
  }
 ],
 "metadata": {
  "kernelspec": {
   "display_name": "R",
   "language": "R",
   "name": "ir"
  },
  "language_info": {
   "codemirror_mode": "r",
   "file_extension": ".r",
   "mimetype": "text/x-r-source",
   "name": "R",
   "pygments_lexer": "r",
   "version": "3.6.3"
  }
 },
 "nbformat": 4,
 "nbformat_minor": 5
}
