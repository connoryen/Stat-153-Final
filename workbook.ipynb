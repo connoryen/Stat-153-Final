{
 "cells": [
  {
   "cell_type": "code",
   "execution_count": 32,
   "id": "d55b4786-5c48-4726-b440-2c55b026f44f",
   "metadata": {},
   "outputs": [],
   "source": [
    "library(astsa)\n",
    "library(forecast)\n",
    "library(FitAR)\n",
    "library(Metrics)\n",
    "library(pracma)\n",
    "\n",
    "df <- read.csv(\"projectdata_covid.csv\")"
   ]
  },
  {
   "cell_type": "markdown",
   "id": "78e441c3-ae7f-4159-8dd7-3d2314b2ec61",
   "metadata": {},
   "source": [
    "# 1 Spectral Density and Periodigram"
   ]
  },
  {
   "cell_type": "code",
   "execution_count": 2,
   "id": "e890f595-69b7-489c-844e-1e6065f849a0",
   "metadata": {},
   "outputs": [],
   "source": [
    "localMaxima <- function(x) {\n",
    "    'Find indecies of local maxima of a sequential list. \n",
    "\n",
    "    Parameters\n",
    "    ----------\n",
    "    first: list of floats\n",
    "        sequential y-vals of curve\n",
    "\n",
    "    Returns\n",
    "    -------\n",
    "    list\n",
    "        indecies of local maxima\n",
    "    '\n",
    "    \n",
    "    y <- diff(c(-Inf, x)) > 0L\n",
    "    rle(y)$lengths\n",
    "    y <- cumsum(rle(y)$lengths)\n",
    "    y <- y[seq.int(1L, length(y), 2L)]\n",
    "    if (x[[1]] == x[[2]]) {\n",
    "        y <- y[-1]\n",
    "    }\n",
    "    y\n",
    "}\n",
    "\n",
    "pgram <- function(x){\n",
    "    'Discrete periodigram for a time series via FFT. \n",
    "    index/length(x) gives the sinusoid frequencies \n",
    "    from the fourier frequencies. \n",
    "\n",
    "    Parameters\n",
    "    ----------\n",
    "    first: list of floats\n",
    "        time series\n",
    "\n",
    "    Returns\n",
    "    -------\n",
    "    list\n",
    "        periodigram of time series and list of periodigram values.\n",
    "    '\n",
    "    m = floor(length(x)/2)\n",
    "    pgram = abs(fft(x)[2:(m+1)])^2/length(x)\n",
    "    plot(pgram, type = \"h\")\n",
    "    abline(h=0)\n",
    "    return(pgram)\n",
    "}\n",
    "\n",
    "specMax <- function(x) {\n",
    "    'Compute the spectral density of a time series x. \n",
    "    Return frequencies of spectral maxima in descending order.\n",
    "    Recall that spectral frequencies are the same as sinusoid frequencies. \n",
    "\n",
    "    Parameters\n",
    "    ----------\n",
    "    first: list of floats\n",
    "        time series data\n",
    "\n",
    "    Returns\n",
    "    -------\n",
    "    list\n",
    "        frequencies of spectral maxima\n",
    "    '\n",
    "\n",
    "    s <- mvspec(x)\n",
    "    maxs.index <- localMaxima(s$spec)  # find indecies of local maxima\n",
    "    maxs <- s$freq[maxs.index]  # frequency values of local maxima\n",
    "    maxs.val <- s$spec[maxs.index]  # spec values of local maxima\n",
    "    \n",
    "    rv <- maxs[order(-maxs.val)]  # put maxs in decreasing order\n",
    "    \n",
    "    return(rv)\n",
    "}"
   ]
  },
  {
   "cell_type": "markdown",
   "id": "f0553303-ac3f-421f-b1bd-cac2c8d84ee7",
   "metadata": {},
   "source": [
    "## 1.1 Duality between Spectral Density and Periodigram"
   ]
  },
  {
   "cell_type": "code",
   "execution_count": null,
   "id": "d4f93ee4-9683-4007-87ef-74492b9703d1",
   "metadata": {},
   "outputs": [],
   "source": [
    "# Duality between spectral density and periodigram\n",
    "Y.fromPeriod <- pgram(df$New.Cases)\n",
    "maxFreqs.fromSpec <- specMax(df$New.Cases)\n",
    "\n",
    "l <- length(df$New.Cases)\n",
    "maxFreqs.fromPeriod <- localMaxima(Y.fromPeriod)\n",
    "maxY.fromPeriod <- Y.fromPeriod[maxsIndex.fromPeriod]\n",
    "maxFreqs.fromPeriod <- maxFreqs.fromPeriod[order(-maxY.fromPeriod)]/l\n",
    "\n",
    "maxFreqs.fromPeriod\n",
    "maxFreqs.fromSpec"
   ]
  },
  {
   "cell_type": "markdown",
   "id": "3187b1da-6cf6-4339-9bcf-0c3153580839",
   "metadata": {},
   "source": [
    "Overlap between the largest spike in the spectral and periodigram domains"
   ]
  },
  {
   "cell_type": "code",
   "execution_count": 66,
   "id": "662a4328-cd84-404f-ae02-4e7e5814f0c9",
   "metadata": {},
   "outputs": [],
   "source": [
    "sarima2 <- function(df, p=0,d=0,q=0, P=0,D=0,Q=0,S=1, plot = TRUE) {\n",
    "    \n",
    "    model <- sarima(df, p,d,q, P,D,Q,S, details=FALSE)\n",
    "    \n",
    "    # non-seasonal difference:\n",
    "    while (d > 0){\n",
    "        df <- diff(df)\n",
    "        d <- d-1\n",
    "    }\n",
    "    # seasonal difference:\n",
    "    while (D > 0){\n",
    "        df <- diff(df, lag = S)\n",
    "        D <- D-1\n",
    "    }\n",
    "    \n",
    "    ARMAcoefficients <- list(\"AR\" = c(), \"MA\" = c())\n",
    "    ARpoly <- list(\"little\" = c(1), \"big\" = c(1, rep(0, (S-1))))\n",
    "    MApoly <- list(\"little\" = c(1), \"big\" = c(1, rep(0, (S-1))))\n",
    "    \n",
    "    # non-seasonal coefficient polynomial. \n",
    "    # Polynomials for \"little phis\" and \"little thetas\":\n",
    "    if(p > 0){\n",
    "        for(i in c(1:p)){\n",
    "            ARpoly$little <- c(ARpoly$little, model$ttable[i])\n",
    "        }\n",
    "    }\n",
    "    if(q > 0){\n",
    "        for(i in c(1:q)){\n",
    "            MApoly$little <- c(MApoly$little, model$ttable[i+p])\n",
    "        }\n",
    "    }\n",
    "    \n",
    "    # seasonal coefficient polynomial. \n",
    "    # Polynomials for \"big Phis\" and \"Big Thetas\":\n",
    "    if(Q > 0){\n",
    "        for(i in c(1:(P-1))){\n",
    "            ARpoly$big <- c(ARpoly$big, model$ttable[i+p+q], rep(0, (S-1)))\n",
    "        }\n",
    "        ARpoly$big <- c(ARpoly$big, model$ttable[p+q+P])\n",
    "    }\n",
    "    if(P > 0){\n",
    "        for(i in c(1:(Q-1))){\n",
    "            MApoly$big <- c(MApoly$big, model$ttable[i+p+q+P], rep(0, (S-1)))\n",
    "        }\n",
    "        ARpoly$big <- c(ARpoly$big, model$ttable[p+q+P+Q])\n",
    "    }\n",
    "    \n",
    "    # Full ARMA coefficients:\n",
    "    ARcoef <- polymul(rev(ARpoly$little), rev(ARpoly$big))\n",
    "    MAcoef <- polymul(rev(MApoly$little), rev(MApoly$big))\n",
    "    \n",
    "    \n",
    "    \n",
    "    acfs <- acf2(df, max.lag = (length(df)/2), plot = plot)\n",
    "    \n",
    "    \n",
    "}\n",
    "    \n"
   ]
  },
  {
   "cell_type": "code",
   "execution_count": 92,
   "id": "115b9250-64e9-4f53-84ff-729cbc6695e9",
   "metadata": {},
   "outputs": [
    {
     "data": {
      "text/html": [
       "<style>\n",
       ".list-inline {list-style: none; margin:0; padding: 0}\n",
       ".list-inline>li {display: inline-block}\n",
       ".list-inline>li:not(:last-child)::after {content: \"\\00b7\"; padding: 0 .5ex}\n",
       "</style>\n",
       "<ol class=list-inline><li>1</li><li>2</li><li>30</li><li>4</li><li>5</li><li>0</li></ol>\n"
      ],
      "text/latex": [
       "\\begin{enumerate*}\n",
       "\\item 1\n",
       "\\item 2\n",
       "\\item 30\n",
       "\\item 4\n",
       "\\item 5\n",
       "\\item 0\n",
       "\\end{enumerate*}\n"
      ],
      "text/markdown": [
       "1. 1\n",
       "2. 2\n",
       "3. 30\n",
       "4. 4\n",
       "5. 5\n",
       "6. 0\n",
       "\n",
       "\n"
      ],
      "text/plain": [
       "[1]  1  2 30  4  5  0"
      ]
     },
     "metadata": {},
     "output_type": "display_data"
    }
   ],
   "source": [
    "polymul(c(1,2,30,4,5), c(1,0))"
   ]
  },
  {
   "cell_type": "code",
   "execution_count": 43,
   "id": "6522453c-530a-49bb-9ed9-654903761947",
   "metadata": {},
   "outputs": [],
   "source": [
    "m1 <- sarima(df$New.Cases, p=3,d=0,q=2, P=4,D=0,Q=1,S=7, details = FALSE)"
   ]
  },
  {
   "cell_type": "code",
   "execution_count": 89,
   "id": "813e0d00-623d-4e82-9205-f23d3035e1d4",
   "metadata": {},
   "outputs": [
    {
     "data": {
      "text/html": [
       "<style>\n",
       ".list-inline {list-style: none; margin:0; padding: 0}\n",
       ".list-inline>li {display: inline-block}\n",
       ".list-inline>li:not(:last-child)::after {content: \"\\00b7\"; padding: 0 .5ex}\n",
       "</style>\n",
       "<ol class=list-inline><li>5</li><li>3</li><li>10</li><li>1</li></ol>\n"
      ],
      "text/latex": [
       "\\begin{enumerate*}\n",
       "\\item 5\n",
       "\\item 3\n",
       "\\item 10\n",
       "\\item 1\n",
       "\\end{enumerate*}\n"
      ],
      "text/markdown": [
       "1. 5\n",
       "2. 3\n",
       "3. 10\n",
       "4. 1\n",
       "\n",
       "\n"
      ],
      "text/plain": [
       "[1]  5  3 10  1"
      ]
     },
     "metadata": {},
     "output_type": "display_data"
    },
    {
     "data": {
      "text/html": [
       "<style>\n",
       ".list-inline {list-style: none; margin:0; padding: 0}\n",
       ".list-inline>li {display: inline-block}\n",
       ".list-inline>li:not(:last-child)::after {content: \"\\00b7\"; padding: 0 .5ex}\n",
       "</style>\n",
       "<ol class=list-inline><li>1</li><li>1</li><li>2</li><li>1</li><li>1</li></ol>\n"
      ],
      "text/latex": [
       "\\begin{enumerate*}\n",
       "\\item 1\n",
       "\\item 1\n",
       "\\item 2\n",
       "\\item 1\n",
       "\\item 1\n",
       "\\end{enumerate*}\n"
      ],
      "text/markdown": [
       "1. 1\n",
       "2. 1\n",
       "3. 2\n",
       "4. 1\n",
       "5. 1\n",
       "\n",
       "\n"
      ],
      "text/plain": [
       "[1] 1 1 2 1 1"
      ]
     },
     "metadata": {},
     "output_type": "display_data"
    }
   ],
   "source": [
    "l <- list(\"one\" = c(1,10,3,5), \"two\" =c())\n",
    "l$one <- rev(l$one)\n",
    "l$one\n",
    "polymul(c(1,0,1),c(1,1,1))"
   ]
  },
  {
   "cell_type": "code",
   "execution_count": 74,
   "id": "f5dc1e97-84fa-483f-935b-3f92049e495e",
   "metadata": {},
   "outputs": [
    {
     "data": {
      "text/html": [
       "<style>\n",
       ".list-inline {list-style: none; margin:0; padding: 0}\n",
       ".list-inline>li {display: inline-block}\n",
       ".list-inline>li:not(:last-child)::after {content: \"\\00b7\"; padding: 0 .5ex}\n",
       "</style>\n",
       "<ol class=list-inline><li>'fit'</li><li>'degrees_of_freedom'</li><li>'ttable'</li><li>'AIC'</li><li>'AICc'</li><li>'BIC'</li></ol>\n"
      ],
      "text/latex": [
       "\\begin{enumerate*}\n",
       "\\item 'fit'\n",
       "\\item 'degrees\\_of\\_freedom'\n",
       "\\item 'ttable'\n",
       "\\item 'AIC'\n",
       "\\item 'AICc'\n",
       "\\item 'BIC'\n",
       "\\end{enumerate*}\n"
      ],
      "text/markdown": [
       "1. 'fit'\n",
       "2. 'degrees_of_freedom'\n",
       "3. 'ttable'\n",
       "4. 'AIC'\n",
       "5. 'AICc'\n",
       "6. 'BIC'\n",
       "\n",
       "\n"
      ],
      "text/plain": [
       "[1] \"fit\"                \"degrees_of_freedom\" \"ttable\"            \n",
       "[4] \"AIC\"                \"AICc\"               \"BIC\"               "
      ]
     },
     "metadata": {},
     "output_type": "display_data"
    },
    {
     "data": {
      "text/html": [
       "0.4543"
      ],
      "text/latex": [
       "0.4543"
      ],
      "text/markdown": [
       "0.4543"
      ],
      "text/plain": [
       "[1] 0.4543"
      ]
     },
     "metadata": {},
     "output_type": "display_data"
    },
    {
     "data": {
      "text/html": [
       "<table class=\"dataframe\">\n",
       "<caption>A matrix: 11 × 4 of type dbl</caption>\n",
       "<thead>\n",
       "\t<tr><th></th><th scope=col>Estimate</th><th scope=col>SE</th><th scope=col>t.value</th><th scope=col>p.value</th></tr>\n",
       "</thead>\n",
       "<tbody>\n",
       "\t<tr><th scope=row>ar1</th><td> -0.0229</td><td>  0.2717</td><td>-0.0842</td><td>0.9332</td></tr>\n",
       "\t<tr><th scope=row>ar2</th><td> -0.4751</td><td>  0.1415</td><td>-3.3573</td><td>0.0015</td></tr>\n",
       "\t<tr><th scope=row>ar3</th><td>  0.6430</td><td>  0.1132</td><td> 5.6820</td><td>0.0000</td></tr>\n",
       "\t<tr><th scope=row>ma1</th><td>  0.6827</td><td>  0.3225</td><td> 2.1170</td><td>0.0394</td></tr>\n",
       "\t<tr><th scope=row>ma2</th><td>  0.8208</td><td>  0.3588</td><td> 2.2874</td><td>0.0265</td></tr>\n",
       "\t<tr><th scope=row>sar1</th><td> -0.2237</td><td>  0.5396</td><td>-0.4146</td><td>0.6803</td></tr>\n",
       "\t<tr><th scope=row>sar2</th><td>  0.4543</td><td>  0.2810</td><td> 1.6165</td><td>0.1124</td></tr>\n",
       "\t<tr><th scope=row>sar3</th><td>  0.1871</td><td>  0.2585</td><td> 0.7239</td><td>0.4726</td></tr>\n",
       "\t<tr><th scope=row>sar4</th><td>  0.2702</td><td>  0.1941</td><td> 1.3919</td><td>0.1702</td></tr>\n",
       "\t<tr><th scope=row>sma1</th><td>  0.6302</td><td>  0.5863</td><td> 1.0749</td><td>0.2877</td></tr>\n",
       "\t<tr><th scope=row>xmean</th><td>783.1315</td><td>152.0063</td><td> 5.1520</td><td>0.0000</td></tr>\n",
       "</tbody>\n",
       "</table>\n"
      ],
      "text/latex": [
       "A matrix: 11 × 4 of type dbl\n",
       "\\begin{tabular}{r|llll}\n",
       "  & Estimate & SE & t.value & p.value\\\\\n",
       "\\hline\n",
       "\tar1 &  -0.0229 &   0.2717 & -0.0842 & 0.9332\\\\\n",
       "\tar2 &  -0.4751 &   0.1415 & -3.3573 & 0.0015\\\\\n",
       "\tar3 &   0.6430 &   0.1132 &  5.6820 & 0.0000\\\\\n",
       "\tma1 &   0.6827 &   0.3225 &  2.1170 & 0.0394\\\\\n",
       "\tma2 &   0.8208 &   0.3588 &  2.2874 & 0.0265\\\\\n",
       "\tsar1 &  -0.2237 &   0.5396 & -0.4146 & 0.6803\\\\\n",
       "\tsar2 &   0.4543 &   0.2810 &  1.6165 & 0.1124\\\\\n",
       "\tsar3 &   0.1871 &   0.2585 &  0.7239 & 0.4726\\\\\n",
       "\tsar4 &   0.2702 &   0.1941 &  1.3919 & 0.1702\\\\\n",
       "\tsma1 &   0.6302 &   0.5863 &  1.0749 & 0.2877\\\\\n",
       "\txmean & 783.1315 & 152.0063 &  5.1520 & 0.0000\\\\\n",
       "\\end{tabular}\n"
      ],
      "text/markdown": [
       "\n",
       "A matrix: 11 × 4 of type dbl\n",
       "\n",
       "| <!--/--> | Estimate | SE | t.value | p.value |\n",
       "|---|---|---|---|---|\n",
       "| ar1 |  -0.0229 |   0.2717 | -0.0842 | 0.9332 |\n",
       "| ar2 |  -0.4751 |   0.1415 | -3.3573 | 0.0015 |\n",
       "| ar3 |   0.6430 |   0.1132 |  5.6820 | 0.0000 |\n",
       "| ma1 |   0.6827 |   0.3225 |  2.1170 | 0.0394 |\n",
       "| ma2 |   0.8208 |   0.3588 |  2.2874 | 0.0265 |\n",
       "| sar1 |  -0.2237 |   0.5396 | -0.4146 | 0.6803 |\n",
       "| sar2 |   0.4543 |   0.2810 |  1.6165 | 0.1124 |\n",
       "| sar3 |   0.1871 |   0.2585 |  0.7239 | 0.4726 |\n",
       "| sar4 |   0.2702 |   0.1941 |  1.3919 | 0.1702 |\n",
       "| sma1 |   0.6302 |   0.5863 |  1.0749 | 0.2877 |\n",
       "| xmean | 783.1315 | 152.0063 |  5.1520 | 0.0000 |\n",
       "\n"
      ],
      "text/plain": [
       "      Estimate SE       t.value p.value\n",
       "ar1    -0.0229   0.2717 -0.0842 0.9332 \n",
       "ar2    -0.4751   0.1415 -3.3573 0.0015 \n",
       "ar3     0.6430   0.1132  5.6820 0.0000 \n",
       "ma1     0.6827   0.3225  2.1170 0.0394 \n",
       "ma2     0.8208   0.3588  2.2874 0.0265 \n",
       "sar1   -0.2237   0.5396 -0.4146 0.6803 \n",
       "sar2    0.4543   0.2810  1.6165 0.1124 \n",
       "sar3    0.1871   0.2585  0.7239 0.4726 \n",
       "sar4    0.2702   0.1941  1.3919 0.1702 \n",
       "sma1    0.6302   0.5863  1.0749 0.2877 \n",
       "xmean 783.1315 152.0063  5.1520 0.0000 "
      ]
     },
     "metadata": {},
     "output_type": "display_data"
    }
   ],
   "source": [
    "names(m1)\n",
    "m1$ttable[7]; m1$ttable"
   ]
  }
 ],
 "metadata": {
  "kernelspec": {
   "display_name": "R",
   "language": "R",
   "name": "ir"
  },
  "language_info": {
   "codemirror_mode": "r",
   "file_extension": ".r",
   "mimetype": "text/x-r-source",
   "name": "R",
   "pygments_lexer": "r",
   "version": "3.6.3"
  }
 },
 "nbformat": 4,
 "nbformat_minor": 5
}
