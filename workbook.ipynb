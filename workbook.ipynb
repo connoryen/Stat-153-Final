{
 "cells": [
  {
   "cell_type": "code",
   "execution_count": 9,
   "id": "1d1c908b-c53e-4c39-bfc0-810694a99a74",
   "metadata": {},
   "outputs": [],
   "source": [
    "source(\"TSanalysis.R\")"
   ]
  },
  {
   "cell_type": "markdown",
   "id": "78e441c3-ae7f-4159-8dd7-3d2314b2ec61",
   "metadata": {},
   "source": [
    "# 1 Spectral Density and Periodigram"
   ]
  },
  {
   "cell_type": "code",
   "execution_count": 10,
   "id": "addcbe76-b53e-4b19-9bb6-25bbb0b1a10c",
   "metadata": {},
   "outputs": [
    {
     "data": {
      "text/html": [
       "<style>\n",
       ".list-inline {list-style: none; margin:0; padding: 0}\n",
       ".list-inline>li {display: inline-block}\n",
       ".list-inline>li:not(:last-child)::after {content: \"\\00b7\"; padding: 0 .5ex}\n",
       "</style>\n",
       "<ol class=list-inline><li>0</li><li>0</li><li>0</li><li>0</li><li>0</li><li>0</li><li>-0.194730971700103</li></ol>\n"
      ],
      "text/latex": [
       "\\begin{enumerate*}\n",
       "\\item 0\n",
       "\\item 0\n",
       "\\item 0\n",
       "\\item 0\n",
       "\\item 0\n",
       "\\item 0\n",
       "\\item -0.194730971700103\n",
       "\\end{enumerate*}\n"
      ],
      "text/markdown": [
       "1. 0\n",
       "2. 0\n",
       "3. 0\n",
       "4. 0\n",
       "5. 0\n",
       "6. 0\n",
       "7. -0.194730971700103\n",
       "\n",
       "\n"
      ],
      "text/plain": [
       "[1]  0.000000  0.000000  0.000000  0.000000  0.000000  0.000000 -0.194731"
      ]
     },
     "metadata": {},
     "output_type": "display_data"
    },
    {
     "data": {
      "text/html": [
       "<style>\n",
       ".list-inline {list-style: none; margin:0; padding: 0}\n",
       ".list-inline>li {display: inline-block}\n",
       ".list-inline>li:not(:last-child)::after {content: \"\\00b7\"; padding: 0 .5ex}\n",
       "</style>\n",
       "<ol class=list-inline><li>-0.529691719165791</li><li>0</li><li>0</li><li>0</li><li>0</li><li>0</li><li>-0.390688442836976</li><li>0.206944432944524</li></ol>\n"
      ],
      "text/latex": [
       "\\begin{enumerate*}\n",
       "\\item -0.529691719165791\n",
       "\\item 0\n",
       "\\item 0\n",
       "\\item 0\n",
       "\\item 0\n",
       "\\item 0\n",
       "\\item -0.390688442836976\n",
       "\\item 0.206944432944524\n",
       "\\end{enumerate*}\n"
      ],
      "text/markdown": [
       "1. -0.529691719165791\n",
       "2. 0\n",
       "3. 0\n",
       "4. 0\n",
       "5. 0\n",
       "6. 0\n",
       "7. -0.390688442836976\n",
       "8. 0.206944432944524\n",
       "\n",
       "\n"
      ],
      "text/plain": [
       "[1] -0.5296917  0.0000000  0.0000000  0.0000000  0.0000000  0.0000000 -0.3906884\n",
       "[8]  0.2069444"
      ]
     },
     "metadata": {},
     "output_type": "display_data"
    },
    {
     "data": {
      "text/html": [
       "<style>\n",
       ".list-inline {list-style: none; margin:0; padding: 0}\n",
       ".list-inline>li {display: inline-block}\n",
       ".list-inline>li:not(:last-child)::after {content: \"\\00b7\"; padding: 0 .5ex}\n",
       "</style>\n",
       "<ol class=list-inline><li>0</li><li>0</li><li>0</li><li>0</li><li>0</li><li>0</li><li>-0.1947</li></ol>\n"
      ],
      "text/latex": [
       "\\begin{enumerate*}\n",
       "\\item 0\n",
       "\\item 0\n",
       "\\item 0\n",
       "\\item 0\n",
       "\\item 0\n",
       "\\item 0\n",
       "\\item -0.1947\n",
       "\\end{enumerate*}\n"
      ],
      "text/markdown": [
       "1. 0\n",
       "2. 0\n",
       "3. 0\n",
       "4. 0\n",
       "5. 0\n",
       "6. 0\n",
       "7. -0.1947\n",
       "\n",
       "\n"
      ],
      "text/plain": [
       "[1]  0.0000  0.0000  0.0000  0.0000  0.0000  0.0000 -0.1947"
      ]
     },
     "metadata": {},
     "output_type": "display_data"
    },
    {
     "data": {
      "text/html": [
       "<style>\n",
       ".list-inline {list-style: none; margin:0; padding: 0}\n",
       ".list-inline>li {display: inline-block}\n",
       ".list-inline>li:not(:last-child)::after {content: \"\\00b7\"; padding: 0 .5ex}\n",
       "</style>\n",
       "<ol class=list-inline><li>-0.5297</li><li>0</li><li>0</li><li>0</li><li>0</li><li>0</li><li>-0.3907</li><li>0.20695379</li></ol>\n"
      ],
      "text/latex": [
       "\\begin{enumerate*}\n",
       "\\item -0.5297\n",
       "\\item 0\n",
       "\\item 0\n",
       "\\item 0\n",
       "\\item 0\n",
       "\\item 0\n",
       "\\item -0.3907\n",
       "\\item 0.20695379\n",
       "\\end{enumerate*}\n"
      ],
      "text/markdown": [
       "1. -0.5297\n",
       "2. 0\n",
       "3. 0\n",
       "4. 0\n",
       "5. 0\n",
       "6. 0\n",
       "7. -0.3907\n",
       "8. 0.20695379\n",
       "\n",
       "\n"
      ],
      "text/plain": [
       "[1] -0.5297000  0.0000000  0.0000000  0.0000000  0.0000000  0.0000000 -0.3907000\n",
       "[8]  0.2069538"
      ]
     },
     "metadata": {},
     "output_type": "display_data"
    }
   ],
   "source": [
    "df <- read.csv(\"projectdata_covid.csv\")\n",
    "\n",
    "m2.2 <- sarima(df$New.Cases, p=0,d=1,q=1, P=1,D=1,Q=1,S=7, details = FALSE)\n",
    "\n",
    "TrueAR <- c(rep(0,6), m2.2$fit$coef[[2]])\n",
    "TrueMA <- c(m2.2$fit$coef[[1]], rep(0,5), m2.2$fit$coef[[3]], m2.2$fit$coef[[1]]*m2.2$fit$coef[[3]])\n",
    "\n",
    "test <- backshiftPolynomialCoefficients(m2.2$ttable, p=0,q=1, P=1,Q=1,S=7)\n",
    "TrueAR; TrueMA; test$AR[]; test$MA[]"
   ]
  },
  {
   "cell_type": "markdown",
   "id": "f0553303-ac3f-421f-b1bd-cac2c8d84ee7",
   "metadata": {},
   "source": [
    "## 1.1 Duality between Spectral Density and Periodigram"
   ]
  },
  {
   "cell_type": "code",
   "execution_count": null,
   "id": "d4f93ee4-9683-4007-87ef-74492b9703d1",
   "metadata": {},
   "outputs": [],
   "source": [
    "# Duality between spectral density and periodigram\n",
    "Y.fromPeriod <- pgram(df$New.Cases)\n",
    "maxFreqs.fromSpec <- specMax(df$New.Cases)\n",
    "\n",
    "l <- length(df$New.Cases)\n",
    "maxFreqs.fromPeriod <- localMaxima(Y.fromPeriod)\n",
    "maxY.fromPeriod <- Y.fromPeriod[maxsIndex.fromPeriod]\n",
    "maxFreqs.fromPeriod <- maxFreqs.fromPeriod[order(-maxY.fromPeriod)]/l\n",
    "\n",
    "maxFreqs.fromPeriod\n",
    "maxFreqs.fromSpec"
   ]
  },
  {
   "cell_type": "markdown",
   "id": "3187b1da-6cf6-4339-9bcf-0c3153580839",
   "metadata": {},
   "source": [
    "Overlap between the largest spike in the spectral and periodigram domains"
   ]
  },
  {
   "cell_type": "markdown",
   "id": "ff167375-62da-47ee-b48b-22ab913e534b",
   "metadata": {},
   "source": [
    "# 2.2 SARIMA 2"
   ]
  },
  {
   "cell_type": "code",
   "execution_count": 120,
   "id": "71653d47-7a1a-4a7f-ab38-7506c37d2ca8",
   "metadata": {},
   "outputs": [],
   "source": [
    "sarima2 <- function(df, p=0,d=0,q=0, P=0,D=0,Q=0,S=1, plot = TRUE) {\n",
    "    \n",
    "    model <- sarima(df, p,d,q, P,D,Q,S, details=FALSE)\n",
    "    \n",
    "    # non-seasonal difference:\n",
    "    while (d > 0){\n",
    "        df <- diff(df)\n",
    "        d <- d-1\n",
    "    }\n",
    "    # seasonal difference:\n",
    "    while (D > 0){\n",
    "        df <- diff(df, lag = S)\n",
    "        D <- D-1\n",
    "    }\n",
    "    \n",
    "    acfs <- acf2(df, max.lag = (length(df)/2), plot = plot)\n",
    "}"
   ]
  },
  {
   "cell_type": "code",
   "execution_count": 161,
   "id": "f18b540c-79d4-4a81-b003-91d1b1fb8cb0",
   "metadata": {},
   "outputs": [
    {
     "data": {
      "text/html": [
       "<style>\n",
       ".list-inline {list-style: none; margin:0; padding: 0}\n",
       ".list-inline>li {display: inline-block}\n",
       ".list-inline>li:not(:last-child)::after {content: \"\\00b7\"; padding: 0 .5ex}\n",
       "</style>\n",
       "<ol class=list-inline><li>0</li><li>0</li><li>0</li><li>0</li><li>0</li><li>0</li><li>-0.194730971700103</li></ol>\n"
      ],
      "text/latex": [
       "\\begin{enumerate*}\n",
       "\\item 0\n",
       "\\item 0\n",
       "\\item 0\n",
       "\\item 0\n",
       "\\item 0\n",
       "\\item 0\n",
       "\\item -0.194730971700103\n",
       "\\end{enumerate*}\n"
      ],
      "text/markdown": [
       "1. 0\n",
       "2. 0\n",
       "3. 0\n",
       "4. 0\n",
       "5. 0\n",
       "6. 0\n",
       "7. -0.194730971700103\n",
       "\n",
       "\n"
      ],
      "text/plain": [
       "[1]  0.000000  0.000000  0.000000  0.000000  0.000000  0.000000 -0.194731"
      ]
     },
     "metadata": {},
     "output_type": "display_data"
    },
    {
     "data": {
      "text/html": [
       "<style>\n",
       ".list-inline {list-style: none; margin:0; padding: 0}\n",
       ".list-inline>li {display: inline-block}\n",
       ".list-inline>li:not(:last-child)::after {content: \"\\00b7\"; padding: 0 .5ex}\n",
       "</style>\n",
       "<ol class=list-inline><li>-0.529691719165791</li><li>0</li><li>0</li><li>0</li><li>0</li><li>0</li><li>-0.390688442836976</li><li>0.206944432944524</li></ol>\n"
      ],
      "text/latex": [
       "\\begin{enumerate*}\n",
       "\\item -0.529691719165791\n",
       "\\item 0\n",
       "\\item 0\n",
       "\\item 0\n",
       "\\item 0\n",
       "\\item 0\n",
       "\\item -0.390688442836976\n",
       "\\item 0.206944432944524\n",
       "\\end{enumerate*}\n"
      ],
      "text/markdown": [
       "1. -0.529691719165791\n",
       "2. 0\n",
       "3. 0\n",
       "4. 0\n",
       "5. 0\n",
       "6. 0\n",
       "7. -0.390688442836976\n",
       "8. 0.206944432944524\n",
       "\n",
       "\n"
      ],
      "text/plain": [
       "[1] -0.5296917  0.0000000  0.0000000  0.0000000  0.0000000  0.0000000 -0.3906884\n",
       "[8]  0.2069444"
      ]
     },
     "metadata": {},
     "output_type": "display_data"
    },
    {
     "data": {
      "text/html": [
       "<style>\n",
       ".list-inline {list-style: none; margin:0; padding: 0}\n",
       ".list-inline>li {display: inline-block}\n",
       ".list-inline>li:not(:last-child)::after {content: \"\\00b7\"; padding: 0 .5ex}\n",
       "</style>\n",
       "<ol class=list-inline><li>0</li><li>0</li><li>0</li><li>0</li><li>0</li><li>0</li><li>-0.1947</li></ol>\n"
      ],
      "text/latex": [
       "\\begin{enumerate*}\n",
       "\\item 0\n",
       "\\item 0\n",
       "\\item 0\n",
       "\\item 0\n",
       "\\item 0\n",
       "\\item 0\n",
       "\\item -0.1947\n",
       "\\end{enumerate*}\n"
      ],
      "text/markdown": [
       "1. 0\n",
       "2. 0\n",
       "3. 0\n",
       "4. 0\n",
       "5. 0\n",
       "6. 0\n",
       "7. -0.1947\n",
       "\n",
       "\n"
      ],
      "text/plain": [
       "[1]  0.0000  0.0000  0.0000  0.0000  0.0000  0.0000 -0.1947"
      ]
     },
     "metadata": {},
     "output_type": "display_data"
    },
    {
     "data": {
      "text/html": [
       "<style>\n",
       ".list-inline {list-style: none; margin:0; padding: 0}\n",
       ".list-inline>li {display: inline-block}\n",
       ".list-inline>li:not(:last-child)::after {content: \"\\00b7\"; padding: 0 .5ex}\n",
       "</style>\n",
       "<ol class=list-inline><li>-0.5297</li><li>0</li><li>0</li><li>0</li><li>0</li><li>0</li><li>-0.3907</li><li>0.20695379</li></ol>\n"
      ],
      "text/latex": [
       "\\begin{enumerate*}\n",
       "\\item -0.5297\n",
       "\\item 0\n",
       "\\item 0\n",
       "\\item 0\n",
       "\\item 0\n",
       "\\item 0\n",
       "\\item -0.3907\n",
       "\\item 0.20695379\n",
       "\\end{enumerate*}\n"
      ],
      "text/markdown": [
       "1. -0.5297\n",
       "2. 0\n",
       "3. 0\n",
       "4. 0\n",
       "5. 0\n",
       "6. 0\n",
       "7. -0.3907\n",
       "8. 0.20695379\n",
       "\n",
       "\n"
      ],
      "text/plain": [
       "[1] -0.5297000  0.0000000  0.0000000  0.0000000  0.0000000  0.0000000 -0.3907000\n",
       "[8]  0.2069538"
      ]
     },
     "metadata": {},
     "output_type": "display_data"
    },
    {
     "data": {
      "text/html": [
       "'double'"
      ],
      "text/latex": [
       "'double'"
      ],
      "text/markdown": [
       "'double'"
      ],
      "text/plain": [
       "[1] \"double\""
      ]
     },
     "metadata": {},
     "output_type": "display_data"
    },
    {
     "data": {
      "text/html": [
       "<table class=\"dataframe\">\n",
       "<caption>A matrix: 3 × 4 of type dbl</caption>\n",
       "<thead>\n",
       "\t<tr><th></th><th scope=col>Estimate</th><th scope=col>SE</th><th scope=col>t.value</th><th scope=col>p.value</th></tr>\n",
       "</thead>\n",
       "<tbody>\n",
       "\t<tr><th scope=row>ma1</th><td>-0.5297</td><td>0.1477</td><td>-3.5855</td><td>0.0008</td></tr>\n",
       "\t<tr><th scope=row>sar1</th><td>-0.1947</td><td>0.2846</td><td>-0.6842</td><td>0.4971</td></tr>\n",
       "\t<tr><th scope=row>sma1</th><td>-0.3907</td><td>0.2649</td><td>-1.4748</td><td>0.1467</td></tr>\n",
       "</tbody>\n",
       "</table>\n"
      ],
      "text/latex": [
       "A matrix: 3 × 4 of type dbl\n",
       "\\begin{tabular}{r|llll}\n",
       "  & Estimate & SE & t.value & p.value\\\\\n",
       "\\hline\n",
       "\tma1 & -0.5297 & 0.1477 & -3.5855 & 0.0008\\\\\n",
       "\tsar1 & -0.1947 & 0.2846 & -0.6842 & 0.4971\\\\\n",
       "\tsma1 & -0.3907 & 0.2649 & -1.4748 & 0.1467\\\\\n",
       "\\end{tabular}\n"
      ],
      "text/markdown": [
       "\n",
       "A matrix: 3 × 4 of type dbl\n",
       "\n",
       "| <!--/--> | Estimate | SE | t.value | p.value |\n",
       "|---|---|---|---|---|\n",
       "| ma1 | -0.5297 | 0.1477 | -3.5855 | 0.0008 |\n",
       "| sar1 | -0.1947 | 0.2846 | -0.6842 | 0.4971 |\n",
       "| sma1 | -0.3907 | 0.2649 | -1.4748 | 0.1467 |\n",
       "\n"
      ],
      "text/plain": [
       "     Estimate SE     t.value p.value\n",
       "ma1  -0.5297  0.1477 -3.5855 0.0008 \n",
       "sar1 -0.1947  0.2846 -0.6842 0.4971 \n",
       "sma1 -0.3907  0.2649 -1.4748 0.1467 "
      ]
     },
     "metadata": {},
     "output_type": "display_data"
    },
    {
     "data": {
      "text/html": [
       "'double'"
      ],
      "text/latex": [
       "'double'"
      ],
      "text/markdown": [
       "'double'"
      ],
      "text/plain": [
       "[1] \"double\""
      ]
     },
     "metadata": {},
     "output_type": "display_data"
    }
   ],
   "source": [
    "m2.2 <- sarima(df$New.Cases, p=0,d=1,q=1, P=1,D=1,Q=1,S=7, details = FALSE)\n",
    "#m2.2$ttable\n",
    "\n",
    "TrueAR <- c(rep(0,6), m2.2$fit$coef[[2]])\n",
    "TrueMA <- c(m2.2$fit$coef[[1]], rep(0,5), m2.2$fit$coef[[3]], m2.2$fit$coef[[1]]*m2.2$fit$coef[[3]])\n",
    "\n",
    "test <- ARMA_backshiftPolyCoefficients(m2.2$ttable, p=0,q=1, P=1,Q=1,S=7)\n",
    "TrueAR; TrueMA; test$AR[]; test$MA[]\n",
    "\n",
    "typeof(m2.2$ttable)\n",
    "m2.2$ttable\n",
    "typeof(1)"
   ]
  }
 ],
 "metadata": {
  "kernelspec": {
   "display_name": "R",
   "language": "R",
   "name": "ir"
  },
  "language_info": {
   "codemirror_mode": "r",
   "file_extension": ".r",
   "mimetype": "text/x-r-source",
   "name": "R",
   "pygments_lexer": "r",
   "version": "3.6.3"
  }
 },
 "nbformat": 4,
 "nbformat_minor": 5
}
