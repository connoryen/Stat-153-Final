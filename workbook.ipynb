{
 "cells": [
  {
   "cell_type": "code",
   "execution_count": 3,
   "id": "d55b4786-5c48-4726-b440-2c55b026f44f",
   "metadata": {},
   "outputs": [],
   "source": [
    "library(astsa)\n",
    "library(forecast)\n",
    "library(FitAR)\n",
    "library(Metrics)\n",
    "\n",
    "df <- read.csv(\"projectdata_covid.csv\")"
   ]
  },
  {
   "cell_type": "markdown",
   "id": "78e441c3-ae7f-4159-8dd7-3d2314b2ec61",
   "metadata": {},
   "source": [
    "# Spectral Density and Periodigram"
   ]
  },
  {
   "cell_type": "code",
   "execution_count": 12,
   "id": "e890f595-69b7-489c-844e-1e6065f849a0",
   "metadata": {},
   "outputs": [],
   "source": [
    "localMaxima <- function(x) {\n",
    "    'Find indecies of local maxima of a sequential list. \n",
    "\n",
    "    Parameters\n",
    "    ----------\n",
    "    first: list of floats\n",
    "        sequential y-vals of curve\n",
    "\n",
    "    Returns\n",
    "    -------\n",
    "    list\n",
    "        indecies of local maxima\n",
    "    '\n",
    "    \n",
    "    y <- diff(c(-Inf, x)) > 0L\n",
    "    rle(y)$lengths\n",
    "    y <- cumsum(rle(y)$lengths)\n",
    "    y <- y[seq.int(1L, length(y), 2L)]\n",
    "    if (x[[1]] == x[[2]]) {\n",
    "        y <- y[-1]\n",
    "    }\n",
    "    y\n",
    "}\n",
    "\n",
    "pgram <- function(x){\n",
    "    'Discrete periodigram for a time series via FFT. \n",
    "    index/length(x) gives the sinusoid frequencies \n",
    "    from the fourier frequencies. \n",
    "\n",
    "    Parameters\n",
    "    ----------\n",
    "    first: list of floats\n",
    "        time series\n",
    "\n",
    "    Returns\n",
    "    -------\n",
    "    list\n",
    "        periodigram of time series and list of periodigram values.\n",
    "    '\n",
    "    m = floor(length(x)/2)\n",
    "    pgram = abs(fft(x)[2:(m+1)])^2/length(x)\n",
    "    plot(pgram, type = \"h\")\n",
    "    abline(h=0)\n",
    "    return(pgram)\n",
    "}\n",
    "\n",
    "specMax <- function(x) {\n",
    "    'Compute the spectral density of a time series x. \n",
    "    Return frequencies of spectral maxima in descending order.\n",
    "    Recall that spectral frequencies are the same as sinusoid frequencies. \n",
    "\n",
    "    Parameters\n",
    "    ----------\n",
    "    first: list of floats\n",
    "        time series data\n",
    "\n",
    "    Returns\n",
    "    -------\n",
    "    list\n",
    "        frequencies of spectral maxima\n",
    "    '\n",
    "\n",
    "    s <- mvspec(x)\n",
    "    maxs.index <- localMaxima(s$spec)  # find indecies of local maxima\n",
    "    maxs <- s$freq[maxs.index]  # frequency values of local maxima\n",
    "    maxs.val <- s$spec[maxs.index]  # spec values of local maxima\n",
    "    \n",
    "    rv <- maxs[order(-maxs.val)]  # put maxs in decreasing order\n",
    "    \n",
    "    return(rv)\n",
    "}"
   ]
  },
  {
   "cell_type": "markdown",
   "id": "f0553303-ac3f-421f-b1bd-cac2c8d84ee7",
   "metadata": {},
   "source": [
    "## Duality between Spectral Density and Periodigram"
   ]
  },
  {
   "cell_type": "code",
   "execution_count": 23,
   "id": "d4f93ee4-9683-4007-87ef-74492b9703d1",
   "metadata": {},
   "outputs": [
    {
     "data": {
      "image/png": "[encoded data removed]",
      "text/plain": [
       "plot without title"
      ]
     },
     "metadata": {
      "image/png": {
       "height": 420,
       "width": 420
      }
     },
     "output_type": "display_data"
    },
    {
     "data": {
      "text/html": [
       "<style>\n",
       ".list-inline {list-style: none; margin:0; padding: 0}\n",
       ".list-inline>li {display: inline-block}\n",
       ".list-inline>li:not(:last-child)::after {content: \"\\00b7\"; padding: 0 .5ex}\n",
       "</style>\n",
       "<ol class=list-inline><li>0.0166666666666667</li><li>0.15</li><li>0.283333333333333</li><li>0.25</li><li>0.05</li><li>0.0833333333333333</li><li>0.216666666666667</li><li>0.316666666666667</li><li>0.466666666666667</li><li>0.366666666666667</li></ol>\n"
      ],
      "text/latex": [
       "\\begin{enumerate*}\n",
       "\\item 0.0166666666666667\n",
       "\\item 0.15\n",
       "\\item 0.283333333333333\n",
       "\\item 0.25\n",
       "\\item 0.05\n",
       "\\item 0.0833333333333333\n",
       "\\item 0.216666666666667\n",
       "\\item 0.316666666666667\n",
       "\\item 0.466666666666667\n",
       "\\item 0.366666666666667\n",
       "\\end{enumerate*}\n"
      ],
      "text/markdown": [
       "1. 0.0166666666666667\n",
       "2. 0.15\n",
       "3. 0.283333333333333\n",
       "4. 0.25\n",
       "5. 0.05\n",
       "6. 0.0833333333333333\n",
       "7. 0.216666666666667\n",
       "8. 0.316666666666667\n",
       "9. 0.466666666666667\n",
       "10. 0.366666666666667\n",
       "\n",
       "\n"
      ],
      "text/plain": [
       " [1] 0.01666667 0.15000000 0.28333333 0.25000000 0.05000000 0.08333333\n",
       " [7] 0.21666667 0.31666667 0.46666667 0.36666667"
      ]
     },
     "metadata": {},
     "output_type": "display_data"
    },
    {
     "data": {
      "text/html": [
       "<style>\n",
       ".list-inline {list-style: none; margin:0; padding: 0}\n",
       ".list-inline>li {display: inline-block}\n",
       ".list-inline>li:not(:last-child)::after {content: \"\\00b7\"; padding: 0 .5ex}\n",
       "</style>\n",
       "<ol class=list-inline><li>0.15</li><li>0.0166666666666667</li><li>0.0833333333333333</li><li>0.283333333333333</li><li>0.25</li><li>0.05</li><li>0.316666666666667</li><li>0.216666666666667</li><li>0.45</li><li>0.366666666666667</li></ol>\n"
      ],
      "text/latex": [
       "\\begin{enumerate*}\n",
       "\\item 0.15\n",
       "\\item 0.0166666666666667\n",
       "\\item 0.0833333333333333\n",
       "\\item 0.283333333333333\n",
       "\\item 0.25\n",
       "\\item 0.05\n",
       "\\item 0.316666666666667\n",
       "\\item 0.216666666666667\n",
       "\\item 0.45\n",
       "\\item 0.366666666666667\n",
       "\\end{enumerate*}\n"
      ],
      "text/markdown": [
       "1. 0.15\n",
       "2. 0.0166666666666667\n",
       "3. 0.0833333333333333\n",
       "4. 0.283333333333333\n",
       "5. 0.25\n",
       "6. 0.05\n",
       "7. 0.316666666666667\n",
       "8. 0.216666666666667\n",
       "9. 0.45\n",
       "10. 0.366666666666667\n",
       "\n",
       "\n"
      ],
      "text/plain": [
       " [1] 0.15000000 0.01666667 0.08333333 0.28333333 0.25000000 0.05000000\n",
       " [7] 0.31666667 0.21666667 0.45000000 0.36666667"
      ]
     },
     "metadata": {},
     "output_type": "display_data"
    },
    {
     "data": {
      "image/png": "[encoded data removed]",
      "text/plain": [
       "Plot with title \"Series: x\n",
       "Raw Periodogram\""
      ]
     },
     "metadata": {
      "image/png": {
       "height": 420,
       "width": 420
      }
     },
     "output_type": "display_data"
    }
   ],
   "source": [
    "# Duality between spectral density and periodigram\n",
    "Y.fromPeriod <- pgram(df$New.Cases)\n",
    "maxFreqs.fromSpec <- specMax(df$New.Cases)\n",
    "\n",
    "l <- length(df$New.Cases)\n",
    "maxFreqs.fromPeriod <- localMaxima(Y.fromPeriod)\n",
    "maxY.fromPeriod <- Y.fromPeriod[maxsIndex.fromPeriod]\n",
    "maxFreqs.fromPeriod <- maxFreqs.fromPeriod[order(-maxY.fromPeriod)]/l\n",
    "\n",
    "maxFreqs.fromPeriod\n",
    "maxFreqs.fromSpec"
   ]
  },
  {
   "cell_type": "markdown",
   "id": "3187b1da-6cf6-4339-9bcf-0c3153580839",
   "metadata": {},
   "source": [
    "Overlap between the largest spike in the spectral and periodigram domains"
   ]
  }
 ],
 "metadata": {
  "kernelspec": {
   "display_name": "R",
   "language": "R",
   "name": "ir"
  },
  "language_info": {
   "codemirror_mode": "r",
   "file_extension": ".r",
   "mimetype": "text/x-r-source",
   "name": "R",
   "pygments_lexer": "r",
   "version": "3.6.3"
  }
 },
 "nbformat": 4,
 "nbformat_minor": 5
}
