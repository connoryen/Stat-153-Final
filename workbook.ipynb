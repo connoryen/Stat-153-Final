{
 "cells": [
  {
   "cell_type": "code",
   "execution_count": 199,
   "id": "2eaf4796-b53d-4386-b01b-a065b4e3c517",
   "metadata": {},
   "outputs": [
    {
     "name": "stdout",
     "output_type": "stream",
     "text": [
      "\u001b[32m.\u001b[39m\u001b[32m.\u001b[39m\u001b[32m.\u001b[39m\u001b[32m.\u001b[39m\u001b[32m.\u001b[39m\u001b[32m.\u001b[39m\u001b[32m.\u001b[39m\u001b[32m.\u001b[39m\u001b[32m.\u001b[39m\n"
     ]
    }
   ],
   "source": [
    "if (!require(testthat)) install.packages('testthat')\n",
    "library(testthat)\n",
    "if (!require(devtools)) install.packages('devtools')\n",
    "library(devtools)\n",
    "\n",
    "source(\"TSanalysis.R\")\n",
    "df <- read.csv(\"projectdata_covid.csv\")\n",
    "test_dir(\"tests/testthat\", reporter=c(\"minimal\")) \n",
    "\n",
    "# reporter args:\n",
    "# \"minimal\" for ..F\n",
    "# \"progress\" for verbose (default)\n",
    "# \"location\" for test line number"
   ]
  },
  {
   "cell_type": "code",
   "execution_count": 217,
   "id": "a969a14e-3616-4f52-b6ea-605d57af882a",
   "metadata": {},
   "outputs": [],
   "source": [
    "source(\"TSanalysis.R\")\n",
    "WN <- arima.sim(model = list(order = c(0, 0, 0)), n = 100)\n",
    "ma1 <- arima.sim(model = list(ma = 0.5), n = 100)\n"
   ]
  },
  {
   "cell_type": "markdown",
   "id": "78e441c3-ae7f-4159-8dd7-3d2314b2ec61",
   "metadata": {},
   "source": [
    "# 1 Spectral Density and Periodigram"
   ]
  },
  {
   "cell_type": "markdown",
   "id": "f0553303-ac3f-421f-b1bd-cac2c8d84ee7",
   "metadata": {},
   "source": [
    "## 1.1 Duality between Spectral Density and Periodigram"
   ]
  },
  {
   "cell_type": "code",
   "execution_count": null,
   "id": "d4f93ee4-9683-4007-87ef-74492b9703d1",
   "metadata": {},
   "outputs": [],
   "source": [
    "# Duality between spectral density and periodigram\n",
    "Y.fromPeriod <- pgram(df$New.Cases)\n",
    "maxFreqs.fromSpec <- specMax(df$New.Cases)\n",
    "\n",
    "l <- length(df$New.Cases)\n",
    "maxFreqs.fromPeriod <- localMaxima(Y.fromPeriod)\n",
    "maxY.fromPeriod <- Y.fromPeriod[maxsIndex.fromPeriod]\n",
    "maxFreqs.fromPeriod <- maxFreqs.fromPeriod[order(-maxY.fromPeriod)]/l\n",
    "\n",
    "maxFreqs.fromPeriod\n",
    "maxFreqs.fromSpec"
   ]
  },
  {
   "cell_type": "markdown",
   "id": "3187b1da-6cf6-4339-9bcf-0c3153580839",
   "metadata": {},
   "source": [
    "Overlap between the largest spike in the spectral and periodigram domains"
   ]
  },
  {
   "cell_type": "markdown",
   "id": "ff167375-62da-47ee-b48b-22ab913e534b",
   "metadata": {},
   "source": [
    "# 2.2 SARIMA 2"
   ]
  },
  {
   "cell_type": "code",
   "execution_count": 43,
   "id": "addcbe76-b53e-4b19-9bb6-25bbb0b1a10c",
   "metadata": {},
   "outputs": [
    {
     "data": {
      "text/html": [
       "<style>\n",
       ".list-inline {list-style: none; margin:0; padding: 0}\n",
       ".list-inline>li {display: inline-block}\n",
       ".list-inline>li:not(:last-child)::after {content: \"\\00b7\"; padding: 0 .5ex}\n",
       "</style>\n",
       "<ol class=list-inline><li>0</li><li>0</li><li>0</li><li>0</li><li>0</li><li>0</li><li>0</li></ol>\n"
      ],
      "text/latex": [
       "\\begin{enumerate*}\n",
       "\\item 0\n",
       "\\item 0\n",
       "\\item 0\n",
       "\\item 0\n",
       "\\item 0\n",
       "\\item 0\n",
       "\\item 0\n",
       "\\end{enumerate*}\n"
      ],
      "text/markdown": [
       "1. 0\n",
       "2. 0\n",
       "3. 0\n",
       "4. 0\n",
       "5. 0\n",
       "6. 0\n",
       "7. 0\n",
       "\n",
       "\n"
      ],
      "text/plain": [
       "[1] 0 0 0 0 0 0 0"
      ]
     },
     "metadata": {},
     "output_type": "display_data"
    },
    {
     "data": {
      "text/html": [
       "<style>\n",
       ".list-inline {list-style: none; margin:0; padding: 0}\n",
       ".list-inline>li {display: inline-block}\n",
       ".list-inline>li:not(:last-child)::after {content: \"\\00b7\"; padding: 0 .5ex}\n",
       "</style>\n",
       "<ol class=list-inline><li>0</li><li>0</li><li>0</li><li>0</li><li>0</li><li>0</li><li>0</li><li>0</li></ol>\n"
      ],
      "text/latex": [
       "\\begin{enumerate*}\n",
       "\\item 0\n",
       "\\item 0\n",
       "\\item 0\n",
       "\\item 0\n",
       "\\item 0\n",
       "\\item 0\n",
       "\\item 0\n",
       "\\item 0\n",
       "\\end{enumerate*}\n"
      ],
      "text/markdown": [
       "1. 0\n",
       "2. 0\n",
       "3. 0\n",
       "4. 0\n",
       "5. 0\n",
       "6. 0\n",
       "7. 0\n",
       "8. 0\n",
       "\n",
       "\n"
      ],
      "text/plain": [
       "[1] 0 0 0 0 0 0 0 0"
      ]
     },
     "metadata": {},
     "output_type": "display_data"
    }
   ],
   "source": [
    "source(\"TSanalysis.R\")\n",
    "\n",
    "m2.2 <- sarima(df$New.Cases, p=0,d=1,q=1, P=1,D=1,Q=1,S=7, details = FALSE)\n",
    "\n",
    "trueAR <- c(rep(0,6), m2.2$fit$coef[[2]])\n",
    "trueMA <- c(m2.2$fit$coef[[1]], rep(0,5), m2.2$fit$coef[[3]], m2.2$fit$coef[[1]]*m2.2$fit$coef[[3]])\n",
    "\n",
    "test <- backshiftPolynomialCoefficients(unname(m2.2$fit$coef), p=0,q=1, P=1,Q=1,S=7)\n",
    "trueAR - test$AR[]; trueMA - test$MA[]"
   ]
  },
  {
   "cell_type": "code",
   "execution_count": 120,
   "id": "71653d47-7a1a-4a7f-ab38-7506c37d2ca8",
   "metadata": {},
   "outputs": [],
   "source": [
    "sarima2 <- function(df, p=0,d=0,q=0, P=0,D=0,Q=0,S=1, plot = TRUE) {\n",
    "    \n",
    "    model <- sarima(df, p,d,q, P,D,Q,S, details=FALSE)\n",
    "    \n",
    "    # non-seasonal difference:\n",
    "    while (d > 0){\n",
    "        df <- diff(df)\n",
    "        d <- d-1\n",
    "    }\n",
    "    # seasonal difference:\n",
    "    while (D > 0){\n",
    "        df <- diff(df, lag = S)\n",
    "        D <- D-1\n",
    "    }\n",
    "    \n",
    "    acfs <- acf2(df, max.lag = (length(df)/2), plot = plot)\n",
    "}"
   ]
  }
 ],
 "metadata": {
  "kernelspec": {
   "display_name": "R",
   "language": "R",
   "name": "ir"
  },
  "language_info": {
   "codemirror_mode": "r",
   "file_extension": ".r",
   "mimetype": "text/x-r-source",
   "name": "R",
   "pygments_lexer": "r",
   "version": "4.0.2"
  }
 },
 "nbformat": 4,
 "nbformat_minor": 5
}
