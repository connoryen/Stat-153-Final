{
 "cells": [
  {
   "cell_type": "code",
   "execution_count": 33,
   "id": "d55b4786-5c48-4726-b440-2c55b026f44f",
   "metadata": {},
   "outputs": [],
   "source": [
    "library(astsa)\n",
    "library(forecast)\n",
    "library(FitAR)\n",
    "library(Metrics)\n",
    "\n",
    "df <- read.csv(\"projectdata_covid.csv\")"
   ]
  },
  {
   "cell_type": "code",
   "execution_count": 34,
   "id": "e890f595-69b7-489c-844e-1e6065f849a0",
   "metadata": {},
   "outputs": [
    {
     "ename": "ERROR",
     "evalue": "Error in parse(text = x, srcfile = src): <text>:2:7: unexpected string constant\n12:         indecies of local maxima\n13:     '\n          ^\n",
     "output_type": "error",
     "traceback": [
      "Error in parse(text = x, srcfile = src): <text>:2:7: unexpected string constant\n12:         indecies of local maxima\n13:     '\n          ^\nTraceback:\n"
     ]
    }
   ],
   "source": [
    "localMaxima <- function(x) {\n",
    "    #Find indecies of local maxima of a sequential list. \n",
    "\n",
    "    #Parameters\n",
    "    #----------\n",
    "    #first: list of floats\n",
    "    #    sequential y-vals of curve\n",
    "\n",
    "    #Returns\n",
    "    #-------\n",
    "    #list\n",
    "    #    indecies of local maxima\n",
    "    \n",
    "    y <- diff(c(-Inf, x)) > 0L\n",
    "    rle(y)$lengths\n",
    "    y <- cumsum(rle(y)$lengths)\n",
    "    y <- y[seq.int(1L, length(y), 2L)]\n",
    "    if (x[[1]] == x[[2]]) {\n",
    "        y <- y[-1]\n",
    "    }\n",
    "    y\n",
    "}\n",
    "\n",
    "specMax <- function(x) {\n",
    "    #Compute the spectral density of a time series x. \n",
    "    #Return frequencies of spectral maxima in descending order.\n",
    "\n",
    "    #Parameters\n",
    "    #----------\n",
    "    #first: list of floats\n",
    "    #    time series data\n",
    "\n",
    "    Returns\n",
    "    -------\n",
    "    list\n",
    "        frequencies of spectral maxima\n",
    "    '''\n",
    "\n",
    "    s <- mvspec(x)\n",
    "    maxs.index <- localMaxima(s$spec)  # find indecies of local maxima\n",
    "    maxs <- s$freq[maxs.index]  # frequency values of local maxima\n",
    "    maxs.val <- s$spec[maxs.index]  # spec values of local maxima\n",
    "    \n",
    "    rv <- maxs[order(-maxs.val)]  # put maxs in decreasing order\n",
    "    \n",
    "    return(rv)\n",
    "}\n",
    "\n",
    "m <- specMax(df$New.Cases)\n",
    "abline(v = m)"
   ]
  }
 ],
 "metadata": {
  "kernelspec": {
   "display_name": "R",
   "language": "R",
   "name": "ir"
  },
  "language_info": {
   "codemirror_mode": "r",
   "file_extension": ".r",
   "mimetype": "text/x-r-source",
   "name": "R",
   "pygments_lexer": "r",
   "version": "3.6.3"
  }
 },
 "nbformat": 4,
 "nbformat_minor": 5
}
